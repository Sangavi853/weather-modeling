{
  "nbformat": 4,
  "nbformat_minor": 0,
  "metadata": {
    "colab": {
      "provenance": [],
      "authorship_tag": "ABX9TyNuh7dsm/S2alxDxRgczoAi",
      "include_colab_link": true
    },
    "kernelspec": {
      "name": "python3",
      "display_name": "Python 3"
    },
    "language_info": {
      "name": "python"
    }
  },
  "cells": [
    {
      "cell_type": "markdown",
      "metadata": {
        "id": "view-in-github",
        "colab_type": "text"
      },
      "source": [
        "<a href=\"https://colab.research.google.com/github/Sangavi853/weather-modeling/blob/main/weather_modeling.ipynb\" target=\"_parent\"><img src=\"https://colab.research.google.com/assets/colab-badge.svg\" alt=\"Open In Colab\"/></a>"
      ]
    },
    {
      "cell_type": "code",
      "execution_count": null,
      "metadata": {
        "colab": {
          "base_uri": "https://localhost:8080/"
        },
        "id": "Uwki7_6lakdI",
        "outputId": "ac877deb-2e53-49ec-ec49-39648008c32d"
      },
      "outputs": [
        {
          "output_type": "stream",
          "name": "stdout",
          "text": [
            "For T=20°C, H=50%, W=15m/s, the calculated w is: 176.5\n"
          ]
        }
      ],
      "source": [
        "import math\n",
        "\n",
        "T = 20\n",
        "H = 50\n",
        "W = 15\n",
        "def calculate_w(T, H, W):\n",
        "    w = 0.5 * T**2 - 0.2 * H + 0.1 * W - 15\n",
        "    return w\n",
        "\n",
        "w = calculate_w(T, H, W)\n",
        "\n",
        "print(f\"For T={T}°C, H={H}%, W={W}m/s, the calculated w is: {w}\")"
      ]
    },
    {
      "cell_type": "code",
      "source": [
        "import math\n",
        "def calculate_w(T, H, W):\n",
        "    w = 0.5 * T**2 - 0.2 * H + 0.1 * W - 15\n",
        "    return w\n",
        "\n",
        "T = float(input(\"Enter temperature (T) in Celsius: \"))\n",
        "H = float(input(\"Enter humidity (H) in percentage: \"))\n",
        "W = float(input(\"Enter wind speed (W) in m/s: \"))\n",
        "\n",
        "\n",
        "w = calculate_w(T, H, W)\n",
        "\n",
        "print(f\"For T={T}°C, H={H}%, W={W}m/s, the calculated w is: {w}\")"
      ],
      "metadata": {
        "colab": {
          "base_uri": "https://localhost:8080/"
        },
        "id": "INwCYXx3a6NR",
        "outputId": "c5204adc-4ddd-4cce-a7bf-dadb14b1c9e3"
      },
      "execution_count": null,
      "outputs": [
        {
          "output_type": "stream",
          "name": "stdout",
          "text": [
            "Enter temperature (T) in Celsius: 15\n",
            "Enter humidity (H) in percentage: 20\n",
            "Enter wind speed (W) in m/s: 301\n",
            "For T=15.0°C, H=20.0%, W=301.0m/s, the calculated w is: 123.6\n"
          ]
        }
      ]
    },
    {
      "cell_type": "code",
      "source": [
        "%%writefile input.txt\n",
        "20 40 30\n"
      ],
      "metadata": {
        "colab": {
          "base_uri": "https://localhost:8080/"
        },
        "id": "SvWXkWXBTY_c",
        "outputId": "c23a20f5-e09b-42b9-96cf-396edbc57252"
      },
      "execution_count": null,
      "outputs": [
        {
          "output_type": "stream",
          "name": "stdout",
          "text": [
            "Overwriting input.txt\n"
          ]
        }
      ]
    },
    {
      "cell_type": "code",
      "source": [
        "import math\n",
        "\n",
        "def calculate_w(T, H, W):\n",
        "    w = 0.5 * T**2 - 0.2 * H + 0.1 * W - 15\n",
        "    return w\n",
        "\n",
        "with open(\"input.txt\", \"r\") as file:\n",
        "    for line in file:\n",
        "        T, H, W = map(float, line.split())\n",
        "        w = calculate_w(T, H, W)\n",
        "        print(f\"For T={T}°C, H={H}%, W={W}m/s, the calculated w is: {w}\")"
      ],
      "metadata": {
        "colab": {
          "base_uri": "https://localhost:8080/"
        },
        "id": "B90lSmE0ofar",
        "outputId": "d5ce1c06-7ec2-44d9-85b3-405bb5de778c"
      },
      "execution_count": null,
      "outputs": [
        {
          "output_type": "stream",
          "name": "stdout",
          "text": [
            "For T=20.0°C, H=40.0%, W=30.0m/s, the calculated w is: 180.0\n"
          ]
        }
      ]
    }
  ]
}