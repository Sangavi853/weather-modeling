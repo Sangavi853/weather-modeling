{
  "nbformat": 4,
  "nbformat_minor": 0,
  "metadata": {
    "colab": {
      "provenance": [],
      "authorship_tag": "ABX9TyNEyoozs5Tucs65yUNZXQH1",
      "include_colab_link": true
    },
    "kernelspec": {
      "name": "python3",
      "display_name": "Python 3"
    },
    "language_info": {
      "name": "python"
    }
  },
  "cells": [
    {
      "cell_type": "markdown",
      "metadata": {
        "id": "view-in-github",
        "colab_type": "text"
      },
      "source": [
        "<a href=\"https://colab.research.google.com/github/Sangavi853/weather-modeling/blob/main/weather_modeling.ipynb\" target=\"_parent\"><img src=\"https://colab.research.google.com/assets/colab-badge.svg\" alt=\"Open In Colab\"/></a>"
      ]
    },
    {
      "cell_type": "code",
      "execution_count": 6,
      "metadata": {
        "colab": {
          "base_uri": "https://localhost:8080/"
        },
        "id": "Uwki7_6lakdI",
        "outputId": "e4ac182d-ed9c-4a11-fd0a-dc6652eaabd1"
      },
      "outputs": [
        {
          "output_type": "stream",
          "name": "stdout",
          "text": [
            "weather prediction is rainy\n",
            "For T=20°C, H=50%, W=15m/s, the calculated w is: 176.5\n"
          ]
        }
      ],
      "source": [
        "import math\n",
        "\n",
        "T = 20\n",
        "H = 50\n",
        "W = 15\n",
        "\n",
        "def map_to_category (w):\n",
        "  if w> 300:\n",
        "   return\"sunny\"\n",
        "  if 200 < w < 300:\n",
        "   return\"cloudy\"\n",
        "  if 100 < w <= 200:\n",
        "   return\"rainy\"\n",
        "  if w <= 100:\n",
        "   return\"stormy\"\n",
        "\n",
        "def calculate_w(T, H, W):\n",
        "    w = 0.5 * T**2 - 0.2 * H + 0.1 * W - 15\n",
        "    return w\n",
        "\n",
        "w = calculate_w(T, H, W)\n",
        "weather_category = map_to_category(w)\n",
        "print(f\"weather prediction is {weather_category}\")\n",
        "\n",
        "print(f\"For T={T}°C, H={H}%, W={W}m/s, the calculated w is: {w}\")"
      ]
    },
    {
      "cell_type": "code",
      "source": [
        "import math\n",
        "def calculate_w(T, H, W):\n",
        "    w = 0.5 * T**2 - 0.2 * H + 0.1 * W - 15\n",
        "    return w\n",
        "\n",
        "T = float(input(\"Enter temperature (T) in Celsius: \"))\n",
        "H = float(input(\"Enter humidity (H) in percentage: \"))\n",
        "W = float(input(\"Enter wind speed (W) in m/s: \"))\n",
        "\n",
        "\n",
        "w = calculate_w(T, H, W)\n",
        "weather_category = map_to_category(w)\n",
        "print(f\"weather prediction is {weather_category}\")\n",
        "\n",
        "print(f\"For T={T}°C, H={H}%, W={W}m/s, the calculated w is: {w}\")"
      ],
      "metadata": {
        "colab": {
          "base_uri": "https://localhost:8080/"
        },
        "id": "INwCYXx3a6NR",
        "outputId": "67170b42-5085-4a34-8bd3-3128b401520c"
      },
      "execution_count": 7,
      "outputs": [
        {
          "output_type": "stream",
          "name": "stdout",
          "text": [
            "Enter temperature (T) in Celsius: 25\n",
            "Enter humidity (H) in percentage: 36\n",
            "Enter wind speed (W) in m/s: 45\n",
            "weather prediction is cloudy\n",
            "For T=25.0°C, H=36.0%, W=45.0m/s, the calculated w is: 294.8\n"
          ]
        }
      ]
    },
    {
      "cell_type": "code",
      "source": [
        "%%writefile input.txt\n",
        "20 40 30\n"
      ],
      "metadata": {
        "colab": {
          "base_uri": "https://localhost:8080/"
        },
        "id": "SvWXkWXBTY_c",
        "outputId": "acbee559-8b1b-4be6-fe3e-b6d412bfdc04"
      },
      "execution_count": 9,
      "outputs": [
        {
          "output_type": "stream",
          "name": "stdout",
          "text": [
            "Writing input.txt\n"
          ]
        }
      ]
    },
    {
      "cell_type": "code",
      "source": [
        "import math\n",
        "\n",
        "def calculate_w(T, H, W):\n",
        "    w = 0.5 * T**2 - 0.2 * H + 0.1 * W - 15\n",
        "    return w\n",
        "\n",
        "with open(\"input.txt\", \"r\") as file:\n",
        "    for line in file:\n",
        "        T, H, W = map(float, line.split())\n",
        "        w = calculate_w(T, H, W)\n",
        "        weather_category = map_to_category(w)\n",
        "        print(f\"weather prediction is {weather_category}\")\n",
        "        print(f\"For T={T}°C, H={H}%, W={W}m/s, the calculated w is: {w}\")"
      ],
      "metadata": {
        "colab": {
          "base_uri": "https://localhost:8080/"
        },
        "id": "B90lSmE0ofar",
        "outputId": "2a9f620d-4f18-4363-ead6-602d2882e81b"
      },
      "execution_count": 10,
      "outputs": [
        {
          "output_type": "stream",
          "name": "stdout",
          "text": [
            "weather prediction is rainy\n",
            "For T=20.0°C, H=40.0%, W=30.0m/s, the calculated w is: 180.0\n"
          ]
        }
      ]
    },
    {
      "cell_type": "code",
      "source": [
        "%%writefile multiple_input.txt\n",
        "10 50 63\n",
        "42 36 15\n",
        "75 26 84"
      ],
      "metadata": {
        "id": "De0CsKobOoqj",
        "outputId": "77dbe8a4-bda5-4ca0-8f3f-133c52f0f62a",
        "colab": {
          "base_uri": "https://localhost:8080/"
        }
      },
      "execution_count": 11,
      "outputs": [
        {
          "output_type": "stream",
          "name": "stdout",
          "text": [
            "Overwriting multiple_input.txt\n"
          ]
        }
      ]
    },
    {
      "cell_type": "code",
      "source": [
        "file_path = \"multiple_input.txt\"\n",
        "\n",
        "with open(file_path, 'r') as file:\n",
        "    for line in file:\n",
        "        T, H, W = map(float, line.split())\n",
        "        w = 0.5 * T**2 - 0.2 * H + 0.1 * W - 15\n",
        "        weather_category = map_to_category(w)\n",
        "        print(f\"weather prediction is {weather_category}\")\n",
        "        print(f\"Inputs: T={T}, H={H}, W={W} => Calculated w={w}\")\n"
      ],
      "metadata": {
        "id": "DtBwoFkIPEpS",
        "outputId": "55c25309-10c4-4658-b67d-b8fa9f9d03bf",
        "colab": {
          "base_uri": "https://localhost:8080/"
        }
      },
      "execution_count": 12,
      "outputs": [
        {
          "output_type": "stream",
          "name": "stdout",
          "text": [
            "weather prediction is stormy\n",
            "Inputs: T=10.0, H=50.0, W=63.0 => Calculated w=31.299999999999997\n",
            "weather prediction is sunny\n",
            "Inputs: T=42.0, H=36.0, W=15.0 => Calculated w=861.3\n",
            "weather prediction is sunny\n",
            "Inputs: T=75.0, H=26.0, W=84.0 => Calculated w=2800.7000000000003\n"
          ]
        }
      ]
    }
  ]
}